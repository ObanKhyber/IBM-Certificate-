{
 "cells": [
  {
   "cell_type": "markdown",
   "id": "f2e6bf62",
   "metadata": {},
   "source": [
    "# My Jupyter Notebook on IBM Watson Studio"
   ]
  },
  {
   "cell_type": "markdown",
   "id": "0b4662b9",
   "metadata": {},
   "source": [
    "**Andy HC**\n",
    "\n",
    "**Data Scientist**"
   ]
  },
  {
   "cell_type": "markdown",
   "id": "c3067fc3",
   "metadata": {},
   "source": [
    "*I am keen to integrate data science methdology into my current role working in Goverment*"
   ]
  },
  {
   "cell_type": "markdown",
   "id": "e746c032",
   "metadata": {},
   "source": [
    "### The code in cell 5 computes a simple mathematical calculation "
   ]
  },
  {
   "cell_type": "code",
   "execution_count": 7,
   "id": "08760aaa",
   "metadata": {},
   "outputs": [
    {
     "name": "stdout",
     "output_type": "stream",
     "text": [
      "3\n"
     ]
    }
   ],
   "source": [
    "One = 1\n",
    "Two = 2\n",
    "calculation = One + Two\n",
    "print(calculation)"
   ]
  },
  {
   "cell_type": "markdown",
   "id": "3b3442e3",
   "metadata": {},
   "source": [
    "* This is a list\n",
    "* This is a list\n",
    "* This is a list\n",
    "\n",
    "1. This is another list\n",
    "2. This is another list\n",
    "3. This is another list\n",
    "\n",
    "'This is highlighted!'"
   ]
  },
  {
   "cell_type": "code",
   "execution_count": null,
   "id": "4dbdb22b",
   "metadata": {},
   "outputs": [],
   "source": []
  }
 ],
 "metadata": {
  "kernelspec": {
   "display_name": "Python 3 (ipykernel)",
   "language": "python",
   "name": "python3"
  },
  "language_info": {
   "codemirror_mode": {
    "name": "ipython",
    "version": 3
   },
   "file_extension": ".py",
   "mimetype": "text/x-python",
   "name": "python",
   "nbconvert_exporter": "python",
   "pygments_lexer": "ipython3",
   "version": "3.9.12"
  }
 },
 "nbformat": 4,
 "nbformat_minor": 5
}
